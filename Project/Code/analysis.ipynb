{
 "cells": [
  {
   "cell_type": "markdown",
   "id": "264528a6",
   "metadata": {},
   "source": [
    "### Import libraries"
   ]
  },
  {
   "cell_type": "code",
   "execution_count": 1,
   "id": "c99bd5a4",
   "metadata": {},
   "outputs": [],
   "source": [
    "import pandas as pd\n",
    "import numpy as np\n",
    "import matplotlib as plt\n",
    "import seaborn as sns"
   ]
  },
  {
   "cell_type": "markdown",
   "id": "3c0e8cd8",
   "metadata": {},
   "source": [
    "### Load Dataset"
   ]
  },
  {
   "cell_type": "code",
   "execution_count": 2,
   "id": "d510f637",
   "metadata": {},
   "outputs": [],
   "source": [
    "path = \"../Data/conducta_suicida.csv\""
   ]
  },
  {
   "cell_type": "code",
   "execution_count": 3,
   "id": "197a3e14",
   "metadata": {},
   "outputs": [
    {
     "data": {
      "text/html": [
       "<div>\n",
       "<style scoped>\n",
       "    .dataframe tbody tr th:only-of-type {\n",
       "        vertical-align: middle;\n",
       "    }\n",
       "\n",
       "    .dataframe tbody tr th {\n",
       "        vertical-align: top;\n",
       "    }\n",
       "\n",
       "    .dataframe thead th {\n",
       "        text-align: right;\n",
       "    }\n",
       "</style>\n",
       "<table border=\"1\" class=\"dataframe\">\n",
       "  <thead>\n",
       "    <tr style=\"text-align: right;\">\n",
       "      <th></th>\n",
       "      <th>_id</th>\n",
       "      <th>ano_notificacion</th>\n",
       "      <th>codigo_localidadresidencia</th>\n",
       "      <th>localidad_residencia</th>\n",
       "      <th>nombre_upz</th>\n",
       "      <th>Curso de vida</th>\n",
       "      <th>clasificaciondelaconducta</th>\n",
       "      <th>sexo</th>\n",
       "      <th>edad</th>\n",
       "      <th>niveleducativo</th>\n",
       "      <th>enfermedades_dolorosas</th>\n",
       "      <th>maltrato_sexual</th>\n",
       "      <th>muerte_familiar</th>\n",
       "      <th>conflicto_pareja</th>\n",
       "      <th>problemas_economicos</th>\n",
       "      <th>esc_educ</th>\n",
       "      <th>problemas_juridicos</th>\n",
       "      <th>problemas_laborales</th>\n",
       "      <th>suicidio_amigo</th>\n",
       "      <th>poblacion_diferencial</th>\n",
       "    </tr>\n",
       "  </thead>\n",
       "  <tbody>\n",
       "    <tr>\n",
       "      <th>0</th>\n",
       "      <td>1</td>\n",
       "      <td>2016</td>\n",
       "      <td>3</td>\n",
       "      <td>Santa Fe</td>\n",
       "      <td>LAS CRUCES</td>\n",
       "      <td>12 â€“ 17 Adolescencia</td>\n",
       "      <td>IdeaciÃ³n suicida</td>\n",
       "      <td>Mujer</td>\n",
       "      <td>14</td>\n",
       "      <td>5. Secundaria incompleta</td>\n",
       "      <td>0</td>\n",
       "      <td>0</td>\n",
       "      <td>0</td>\n",
       "      <td>0</td>\n",
       "      <td>0</td>\n",
       "      <td>0</td>\n",
       "      <td>0</td>\n",
       "      <td>0</td>\n",
       "      <td>0</td>\n",
       "      <td>Otra</td>\n",
       "    </tr>\n",
       "    <tr>\n",
       "      <th>1</th>\n",
       "      <td>2</td>\n",
       "      <td>2012</td>\n",
       "      <td>8</td>\n",
       "      <td>Kennedy</td>\n",
       "      <td>UPZ Sin asignar</td>\n",
       "      <td>12 â€“ 17 Adolescencia</td>\n",
       "      <td>IdeaciÃ³n suicida</td>\n",
       "      <td>Hombre</td>\n",
       "      <td>13</td>\n",
       "      <td>5. Secundaria incompleta</td>\n",
       "      <td>0</td>\n",
       "      <td>0</td>\n",
       "      <td>0</td>\n",
       "      <td>0</td>\n",
       "      <td>0</td>\n",
       "      <td>0</td>\n",
       "      <td>0</td>\n",
       "      <td>0</td>\n",
       "      <td>0</td>\n",
       "      <td>Otra</td>\n",
       "    </tr>\n",
       "    <tr>\n",
       "      <th>2</th>\n",
       "      <td>3</td>\n",
       "      <td>2012</td>\n",
       "      <td>19</td>\n",
       "      <td>Ciudad BolÃ­var</td>\n",
       "      <td>UPZ Sin asignar</td>\n",
       "      <td>12 â€“ 17 Adolescencia</td>\n",
       "      <td>Intento de Suicidio</td>\n",
       "      <td>Mujer</td>\n",
       "      <td>13</td>\n",
       "      <td>5. Secundaria incompleta</td>\n",
       "      <td>0</td>\n",
       "      <td>0</td>\n",
       "      <td>0</td>\n",
       "      <td>0</td>\n",
       "      <td>0</td>\n",
       "      <td>0</td>\n",
       "      <td>0</td>\n",
       "      <td>0</td>\n",
       "      <td>0</td>\n",
       "      <td>Otra</td>\n",
       "    </tr>\n",
       "    <tr>\n",
       "      <th>3</th>\n",
       "      <td>4</td>\n",
       "      <td>2012</td>\n",
       "      <td>10</td>\n",
       "      <td>EngativÃ¡</td>\n",
       "      <td>UPZ Sin asignar</td>\n",
       "      <td>18 â€“ 28 Juventud</td>\n",
       "      <td>Intento de Suicidio</td>\n",
       "      <td>Mujer</td>\n",
       "      <td>26</td>\n",
       "      <td>8. TÃ©cnico post-secundaria completa</td>\n",
       "      <td>0</td>\n",
       "      <td>0</td>\n",
       "      <td>0</td>\n",
       "      <td>0</td>\n",
       "      <td>0</td>\n",
       "      <td>0</td>\n",
       "      <td>0</td>\n",
       "      <td>0</td>\n",
       "      <td>0</td>\n",
       "      <td>NaN</td>\n",
       "    </tr>\n",
       "    <tr>\n",
       "      <th>4</th>\n",
       "      <td>5</td>\n",
       "      <td>2012</td>\n",
       "      <td>10</td>\n",
       "      <td>EngativÃ¡</td>\n",
       "      <td>UPZ Sin asignar</td>\n",
       "      <td>18 â€“ 28 Juventud</td>\n",
       "      <td>Intento de Suicidio</td>\n",
       "      <td>Mujer</td>\n",
       "      <td>26</td>\n",
       "      <td>6. Secundaria completa</td>\n",
       "      <td>0</td>\n",
       "      <td>0</td>\n",
       "      <td>0</td>\n",
       "      <td>0</td>\n",
       "      <td>0</td>\n",
       "      <td>0</td>\n",
       "      <td>0</td>\n",
       "      <td>0</td>\n",
       "      <td>0</td>\n",
       "      <td>NaN</td>\n",
       "    </tr>\n",
       "  </tbody>\n",
       "</table>\n",
       "</div>"
      ],
      "text/plain": [
       "   _id  ano_notificacion codigo_localidadresidencia localidad_residencia  \\\n",
       "0    1              2016                          3             Santa Fe   \n",
       "1    2              2012                          8              Kennedy   \n",
       "2    3              2012                         19      Ciudad BolÃ­var   \n",
       "3    4              2012                         10            EngativÃ¡   \n",
       "4    5              2012                         10            EngativÃ¡   \n",
       "\n",
       "        nombre_upz           Curso de vida clasificaciondelaconducta    sexo  \\\n",
       "0       LAS CRUCES  12 â€“ 17 Adolescencia         IdeaciÃ³n suicida   Mujer   \n",
       "1  UPZ Sin asignar  12 â€“ 17 Adolescencia         IdeaciÃ³n suicida  Hombre   \n",
       "2  UPZ Sin asignar  12 â€“ 17 Adolescencia       Intento de Suicidio   Mujer   \n",
       "3  UPZ Sin asignar      18 â€“ 28 Juventud       Intento de Suicidio   Mujer   \n",
       "4  UPZ Sin asignar      18 â€“ 28 Juventud       Intento de Suicidio   Mujer   \n",
       "\n",
       "   edad                        niveleducativo  enfermedades_dolorosas  \\\n",
       "0    14              5. Secundaria incompleta                       0   \n",
       "1    13              5. Secundaria incompleta                       0   \n",
       "2    13              5. Secundaria incompleta                       0   \n",
       "3    26  8. TÃ©cnico post-secundaria completa                       0   \n",
       "4    26                6. Secundaria completa                       0   \n",
       "\n",
       "   maltrato_sexual  muerte_familiar  conflicto_pareja  problemas_economicos  \\\n",
       "0                0                0                 0                     0   \n",
       "1                0                0                 0                     0   \n",
       "2                0                0                 0                     0   \n",
       "3                0                0                 0                     0   \n",
       "4                0                0                 0                     0   \n",
       "\n",
       "   esc_educ  problemas_juridicos  problemas_laborales  suicidio_amigo  \\\n",
       "0         0                    0                    0               0   \n",
       "1         0                    0                    0               0   \n",
       "2         0                    0                    0               0   \n",
       "3         0                    0                    0               0   \n",
       "4         0                    0                    0               0   \n",
       "\n",
       "  poblacion_diferencial  \n",
       "0                  Otra  \n",
       "1                  Otra  \n",
       "2                  Otra  \n",
       "3                   NaN  \n",
       "4                   NaN  "
      ]
     },
     "execution_count": 3,
     "metadata": {},
     "output_type": "execute_result"
    }
   ],
   "source": [
    "df = pd.read_csv(path)\n",
    "df.head()"
   ]
  },
  {
   "cell_type": "markdown",
   "id": "461ac120",
   "metadata": {},
   "source": [
    "### Delete _id and esc_edu columns"
   ]
  },
  {
   "cell_type": "code",
   "execution_count": null,
   "id": "fc0554dd",
   "metadata": {},
   "outputs": [
    {
     "data": {
      "text/html": [
       "<div>\n",
       "<style scoped>\n",
       "    .dataframe tbody tr th:only-of-type {\n",
       "        vertical-align: middle;\n",
       "    }\n",
       "\n",
       "    .dataframe tbody tr th {\n",
       "        vertical-align: top;\n",
       "    }\n",
       "\n",
       "    .dataframe thead th {\n",
       "        text-align: right;\n",
       "    }\n",
       "</style>\n",
       "<table border=\"1\" class=\"dataframe\">\n",
       "  <thead>\n",
       "    <tr style=\"text-align: right;\">\n",
       "      <th></th>\n",
       "      <th>ano_notificacion</th>\n",
       "      <th>codigo_localidadresidencia</th>\n",
       "      <th>localidad_residencia</th>\n",
       "      <th>nombre_upz</th>\n",
       "      <th>Curso de vida</th>\n",
       "      <th>clasificaciondelaconducta</th>\n",
       "      <th>sexo</th>\n",
       "      <th>edad</th>\n",
       "      <th>niveleducativo</th>\n",
       "      <th>enfermedades_dolorosas</th>\n",
       "      <th>maltrato_sexual</th>\n",
       "      <th>muerte_familiar</th>\n",
       "      <th>conflicto_pareja</th>\n",
       "      <th>problemas_economicos</th>\n",
       "      <th>problemas_juridicos</th>\n",
       "      <th>problemas_laborales</th>\n",
       "      <th>suicidio_amigo</th>\n",
       "      <th>poblacion_diferencial</th>\n",
       "    </tr>\n",
       "  </thead>\n",
       "  <tbody>\n",
       "    <tr>\n",
       "      <th>0</th>\n",
       "      <td>2016</td>\n",
       "      <td>3</td>\n",
       "      <td>Santa Fe</td>\n",
       "      <td>LAS CRUCES</td>\n",
       "      <td>12  17 Adolescencia</td>\n",
       "      <td>Ideacin suicida</td>\n",
       "      <td>Mujer</td>\n",
       "      <td>14</td>\n",
       "      <td>5 Secundaria incompleta</td>\n",
       "      <td>0</td>\n",
       "      <td>0</td>\n",
       "      <td>0</td>\n",
       "      <td>0</td>\n",
       "      <td>0</td>\n",
       "      <td>0</td>\n",
       "      <td>0</td>\n",
       "      <td>0</td>\n",
       "      <td>Otra</td>\n",
       "    </tr>\n",
       "    <tr>\n",
       "      <th>1</th>\n",
       "      <td>2012</td>\n",
       "      <td>8</td>\n",
       "      <td>Kennedy</td>\n",
       "      <td>UPZ Sin asignar</td>\n",
       "      <td>12  17 Adolescencia</td>\n",
       "      <td>Ideacin suicida</td>\n",
       "      <td>Hombre</td>\n",
       "      <td>13</td>\n",
       "      <td>5 Secundaria incompleta</td>\n",
       "      <td>0</td>\n",
       "      <td>0</td>\n",
       "      <td>0</td>\n",
       "      <td>0</td>\n",
       "      <td>0</td>\n",
       "      <td>0</td>\n",
       "      <td>0</td>\n",
       "      <td>0</td>\n",
       "      <td>Otra</td>\n",
       "    </tr>\n",
       "    <tr>\n",
       "      <th>2</th>\n",
       "      <td>2012</td>\n",
       "      <td>19</td>\n",
       "      <td>Ciudad Bolvar</td>\n",
       "      <td>UPZ Sin asignar</td>\n",
       "      <td>12  17 Adolescencia</td>\n",
       "      <td>Intento de Suicidio</td>\n",
       "      <td>Mujer</td>\n",
       "      <td>13</td>\n",
       "      <td>5 Secundaria incompleta</td>\n",
       "      <td>0</td>\n",
       "      <td>0</td>\n",
       "      <td>0</td>\n",
       "      <td>0</td>\n",
       "      <td>0</td>\n",
       "      <td>0</td>\n",
       "      <td>0</td>\n",
       "      <td>0</td>\n",
       "      <td>Otra</td>\n",
       "    </tr>\n",
       "    <tr>\n",
       "      <th>3</th>\n",
       "      <td>2012</td>\n",
       "      <td>10</td>\n",
       "      <td>Engativ</td>\n",
       "      <td>UPZ Sin asignar</td>\n",
       "      <td>18  28 Juventud</td>\n",
       "      <td>Intento de Suicidio</td>\n",
       "      <td>Mujer</td>\n",
       "      <td>26</td>\n",
       "      <td>8 Tcnico postsecundaria completa</td>\n",
       "      <td>0</td>\n",
       "      <td>0</td>\n",
       "      <td>0</td>\n",
       "      <td>0</td>\n",
       "      <td>0</td>\n",
       "      <td>0</td>\n",
       "      <td>0</td>\n",
       "      <td>0</td>\n",
       "      <td>Ninguna</td>\n",
       "    </tr>\n",
       "    <tr>\n",
       "      <th>4</th>\n",
       "      <td>2012</td>\n",
       "      <td>10</td>\n",
       "      <td>Engativ</td>\n",
       "      <td>UPZ Sin asignar</td>\n",
       "      <td>18  28 Juventud</td>\n",
       "      <td>Intento de Suicidio</td>\n",
       "      <td>Mujer</td>\n",
       "      <td>26</td>\n",
       "      <td>6 Secundaria completa</td>\n",
       "      <td>0</td>\n",
       "      <td>0</td>\n",
       "      <td>0</td>\n",
       "      <td>0</td>\n",
       "      <td>0</td>\n",
       "      <td>0</td>\n",
       "      <td>0</td>\n",
       "      <td>0</td>\n",
       "      <td>Ninguna</td>\n",
       "    </tr>\n",
       "  </tbody>\n",
       "</table>\n",
       "</div>"
      ],
      "text/plain": [
       "   ano_notificacion codigo_localidadresidencia localidad_residencia  \\\n",
       "0              2016                          3             Santa Fe   \n",
       "1              2012                          8              Kennedy   \n",
       "2              2012                         19        Ciudad Bolvar   \n",
       "3              2012                         10              Engativ   \n",
       "4              2012                         10              Engativ   \n",
       "\n",
       "        nombre_upz        Curso de vida clasificaciondelaconducta    sexo  \\\n",
       "0       LAS CRUCES  12  17 Adolescencia           Ideacin suicida   Mujer   \n",
       "1  UPZ Sin asignar  12  17 Adolescencia           Ideacin suicida  Hombre   \n",
       "2  UPZ Sin asignar  12  17 Adolescencia       Intento de Suicidio   Mujer   \n",
       "3  UPZ Sin asignar      18  28 Juventud       Intento de Suicidio   Mujer   \n",
       "4  UPZ Sin asignar      18  28 Juventud       Intento de Suicidio   Mujer   \n",
       "\n",
       "   edad                    niveleducativo  enfermedades_dolorosas  \\\n",
       "0    14           5 Secundaria incompleta                       0   \n",
       "1    13           5 Secundaria incompleta                       0   \n",
       "2    13           5 Secundaria incompleta                       0   \n",
       "3    26  8 Tcnico postsecundaria completa                       0   \n",
       "4    26             6 Secundaria completa                       0   \n",
       "\n",
       "   maltrato_sexual  muerte_familiar  conflicto_pareja  problemas_economicos  \\\n",
       "0                0                0                 0                     0   \n",
       "1                0                0                 0                     0   \n",
       "2                0                0                 0                     0   \n",
       "3                0                0                 0                     0   \n",
       "4                0                0                 0                     0   \n",
       "\n",
       "   problemas_juridicos  problemas_laborales  suicidio_amigo  \\\n",
       "0                    0                    0               0   \n",
       "1                    0                    0               0   \n",
       "2                    0                    0               0   \n",
       "3                    0                    0               0   \n",
       "4                    0                    0               0   \n",
       "\n",
       "  poblacion_diferencial  \n",
       "0                  Otra  \n",
       "1                  Otra  \n",
       "2                  Otra  \n",
       "3               Ninguna  \n",
       "4               Ninguna  "
      ]
     },
     "execution_count": 14,
     "metadata": {},
     "output_type": "execute_result"
    }
   ],
   "source": [
    "del df['_id']\n",
    "del df['esc_educ']\n",
    "df.head()"
   ]
  },
  {
   "cell_type": "markdown",
   "id": "27e3c708",
   "metadata": {},
   "source": [
    "# Data Wrangling"
   ]
  },
  {
   "cell_type": "markdown",
   "id": "69116922",
   "metadata": {},
   "source": [
    "### Identify missing data"
   ]
  },
  {
   "cell_type": "code",
   "execution_count": 5,
   "id": "9aaada98",
   "metadata": {},
   "outputs": [
    {
     "data": {
      "text/html": [
       "<div>\n",
       "<style scoped>\n",
       "    .dataframe tbody tr th:only-of-type {\n",
       "        vertical-align: middle;\n",
       "    }\n",
       "\n",
       "    .dataframe tbody tr th {\n",
       "        vertical-align: top;\n",
       "    }\n",
       "\n",
       "    .dataframe thead th {\n",
       "        text-align: right;\n",
       "    }\n",
       "</style>\n",
       "<table border=\"1\" class=\"dataframe\">\n",
       "  <thead>\n",
       "    <tr style=\"text-align: right;\">\n",
       "      <th></th>\n",
       "      <th>ano_notificacion</th>\n",
       "      <th>codigo_localidadresidencia</th>\n",
       "      <th>localidad_residencia</th>\n",
       "      <th>nombre_upz</th>\n",
       "      <th>Curso de vida</th>\n",
       "      <th>clasificaciondelaconducta</th>\n",
       "      <th>sexo</th>\n",
       "      <th>edad</th>\n",
       "      <th>niveleducativo</th>\n",
       "      <th>enfermedades_dolorosas</th>\n",
       "      <th>maltrato_sexual</th>\n",
       "      <th>muerte_familiar</th>\n",
       "      <th>conflicto_pareja</th>\n",
       "      <th>problemas_economicos</th>\n",
       "      <th>esc_educ</th>\n",
       "      <th>problemas_juridicos</th>\n",
       "      <th>problemas_laborales</th>\n",
       "      <th>suicidio_amigo</th>\n",
       "      <th>poblacion_diferencial</th>\n",
       "    </tr>\n",
       "  </thead>\n",
       "  <tbody>\n",
       "    <tr>\n",
       "      <th>0</th>\n",
       "      <td>False</td>\n",
       "      <td>False</td>\n",
       "      <td>False</td>\n",
       "      <td>False</td>\n",
       "      <td>False</td>\n",
       "      <td>False</td>\n",
       "      <td>False</td>\n",
       "      <td>False</td>\n",
       "      <td>False</td>\n",
       "      <td>False</td>\n",
       "      <td>False</td>\n",
       "      <td>False</td>\n",
       "      <td>False</td>\n",
       "      <td>False</td>\n",
       "      <td>False</td>\n",
       "      <td>False</td>\n",
       "      <td>False</td>\n",
       "      <td>False</td>\n",
       "      <td>False</td>\n",
       "    </tr>\n",
       "    <tr>\n",
       "      <th>1</th>\n",
       "      <td>False</td>\n",
       "      <td>False</td>\n",
       "      <td>False</td>\n",
       "      <td>False</td>\n",
       "      <td>False</td>\n",
       "      <td>False</td>\n",
       "      <td>False</td>\n",
       "      <td>False</td>\n",
       "      <td>False</td>\n",
       "      <td>False</td>\n",
       "      <td>False</td>\n",
       "      <td>False</td>\n",
       "      <td>False</td>\n",
       "      <td>False</td>\n",
       "      <td>False</td>\n",
       "      <td>False</td>\n",
       "      <td>False</td>\n",
       "      <td>False</td>\n",
       "      <td>False</td>\n",
       "    </tr>\n",
       "    <tr>\n",
       "      <th>2</th>\n",
       "      <td>False</td>\n",
       "      <td>False</td>\n",
       "      <td>False</td>\n",
       "      <td>False</td>\n",
       "      <td>False</td>\n",
       "      <td>False</td>\n",
       "      <td>False</td>\n",
       "      <td>False</td>\n",
       "      <td>False</td>\n",
       "      <td>False</td>\n",
       "      <td>False</td>\n",
       "      <td>False</td>\n",
       "      <td>False</td>\n",
       "      <td>False</td>\n",
       "      <td>False</td>\n",
       "      <td>False</td>\n",
       "      <td>False</td>\n",
       "      <td>False</td>\n",
       "      <td>False</td>\n",
       "    </tr>\n",
       "    <tr>\n",
       "      <th>3</th>\n",
       "      <td>False</td>\n",
       "      <td>False</td>\n",
       "      <td>False</td>\n",
       "      <td>False</td>\n",
       "      <td>False</td>\n",
       "      <td>False</td>\n",
       "      <td>False</td>\n",
       "      <td>False</td>\n",
       "      <td>False</td>\n",
       "      <td>False</td>\n",
       "      <td>False</td>\n",
       "      <td>False</td>\n",
       "      <td>False</td>\n",
       "      <td>False</td>\n",
       "      <td>False</td>\n",
       "      <td>False</td>\n",
       "      <td>False</td>\n",
       "      <td>False</td>\n",
       "      <td>True</td>\n",
       "    </tr>\n",
       "    <tr>\n",
       "      <th>4</th>\n",
       "      <td>False</td>\n",
       "      <td>False</td>\n",
       "      <td>False</td>\n",
       "      <td>False</td>\n",
       "      <td>False</td>\n",
       "      <td>False</td>\n",
       "      <td>False</td>\n",
       "      <td>False</td>\n",
       "      <td>False</td>\n",
       "      <td>False</td>\n",
       "      <td>False</td>\n",
       "      <td>False</td>\n",
       "      <td>False</td>\n",
       "      <td>False</td>\n",
       "      <td>False</td>\n",
       "      <td>False</td>\n",
       "      <td>False</td>\n",
       "      <td>False</td>\n",
       "      <td>True</td>\n",
       "    </tr>\n",
       "  </tbody>\n",
       "</table>\n",
       "</div>"
      ],
      "text/plain": [
       "   ano_notificacion  codigo_localidadresidencia  localidad_residencia  \\\n",
       "0             False                       False                 False   \n",
       "1             False                       False                 False   \n",
       "2             False                       False                 False   \n",
       "3             False                       False                 False   \n",
       "4             False                       False                 False   \n",
       "\n",
       "   nombre_upz  Curso de vida  clasificaciondelaconducta   sexo   edad  \\\n",
       "0       False          False                      False  False  False   \n",
       "1       False          False                      False  False  False   \n",
       "2       False          False                      False  False  False   \n",
       "3       False          False                      False  False  False   \n",
       "4       False          False                      False  False  False   \n",
       "\n",
       "   niveleducativo  enfermedades_dolorosas  maltrato_sexual  muerte_familiar  \\\n",
       "0           False                   False            False            False   \n",
       "1           False                   False            False            False   \n",
       "2           False                   False            False            False   \n",
       "3           False                   False            False            False   \n",
       "4           False                   False            False            False   \n",
       "\n",
       "   conflicto_pareja  problemas_economicos  esc_educ  problemas_juridicos  \\\n",
       "0             False                 False     False                False   \n",
       "1             False                 False     False                False   \n",
       "2             False                 False     False                False   \n",
       "3             False                 False     False                False   \n",
       "4             False                 False     False                False   \n",
       "\n",
       "   problemas_laborales  suicidio_amigo  poblacion_diferencial  \n",
       "0                False           False                  False  \n",
       "1                False           False                  False  \n",
       "2                False           False                  False  \n",
       "3                False           False                   True  \n",
       "4                False           False                   True  "
      ]
     },
     "execution_count": 5,
     "metadata": {},
     "output_type": "execute_result"
    }
   ],
   "source": [
    "missing_data = df.isnull()\n",
    "missing_data.head(5)"
   ]
  },
  {
   "cell_type": "code",
   "execution_count": 6,
   "id": "7358e11e",
   "metadata": {},
   "outputs": [
    {
     "name": "stdout",
     "output_type": "stream",
     "text": [
      "ano_notificacion\n",
      "ano_notificacion\n",
      "False    212495\n",
      "Name: count, dtype: int64\n",
      "\n",
      "codigo_localidadresidencia\n",
      "codigo_localidadresidencia\n",
      "False    212495\n",
      "Name: count, dtype: int64\n",
      "\n",
      "localidad_residencia\n",
      "localidad_residencia\n",
      "False    212495\n",
      "Name: count, dtype: int64\n",
      "\n",
      "nombre_upz\n",
      "nombre_upz\n",
      "False    212495\n",
      "Name: count, dtype: int64\n",
      "\n",
      "Curso de vida\n",
      "Curso de vida\n",
      "False    212495\n",
      "Name: count, dtype: int64\n",
      "\n",
      "clasificaciondelaconducta\n",
      "clasificaciondelaconducta\n",
      "False    212495\n",
      "Name: count, dtype: int64\n",
      "\n",
      "sexo\n",
      "sexo\n",
      "False    212495\n",
      "Name: count, dtype: int64\n",
      "\n",
      "edad\n",
      "edad\n",
      "False    212495\n",
      "Name: count, dtype: int64\n",
      "\n",
      "niveleducativo\n",
      "niveleducativo\n",
      "False    212495\n",
      "Name: count, dtype: int64\n",
      "\n",
      "enfermedades_dolorosas\n",
      "enfermedades_dolorosas\n",
      "False    212495\n",
      "Name: count, dtype: int64\n",
      "\n",
      "maltrato_sexual\n",
      "maltrato_sexual\n",
      "False    212495\n",
      "Name: count, dtype: int64\n",
      "\n",
      "muerte_familiar\n",
      "muerte_familiar\n",
      "False    212495\n",
      "Name: count, dtype: int64\n",
      "\n",
      "conflicto_pareja\n",
      "conflicto_pareja\n",
      "False    212495\n",
      "Name: count, dtype: int64\n",
      "\n",
      "problemas_economicos\n",
      "problemas_economicos\n",
      "False    212495\n",
      "Name: count, dtype: int64\n",
      "\n",
      "esc_educ\n",
      "esc_educ\n",
      "False    212495\n",
      "Name: count, dtype: int64\n",
      "\n",
      "problemas_juridicos\n",
      "problemas_juridicos\n",
      "False    212495\n",
      "Name: count, dtype: int64\n",
      "\n",
      "problemas_laborales\n",
      "problemas_laborales\n",
      "False    212495\n",
      "Name: count, dtype: int64\n",
      "\n",
      "suicidio_amigo\n",
      "suicidio_amigo\n",
      "False    212495\n",
      "Name: count, dtype: int64\n",
      "\n",
      "poblacion_diferencial\n",
      "poblacion_diferencial\n",
      "False    192402\n",
      "True      20093\n",
      "Name: count, dtype: int64\n",
      "\n"
     ]
    }
   ],
   "source": [
    "for column in missing_data.columns.values.tolist():\n",
    "    print(column)\n",
    "    print (missing_data[column].value_counts())\n",
    "    print(\"\")    "
   ]
  },
  {
   "cell_type": "markdown",
   "id": "c4fe32eb",
   "metadata": {},
   "source": [
    "As we can see, the only column with null values is <b>poblacion_diferencial</b> with aproximately 20093 missing values."
   ]
  },
  {
   "cell_type": "markdown",
   "id": "1ba50899",
   "metadata": {},
   "source": [
    "### Getting unique values from poblacion_diferencial column"
   ]
  },
  {
   "cell_type": "code",
   "execution_count": 7,
   "id": "a60a3d8a",
   "metadata": {},
   "outputs": [
    {
     "data": {
      "text/plain": [
       "poblacion_diferencial\n",
       "Ninguna                                94139\n",
       "Otra                                   77435\n",
       "Consumidor habitual de SPA              8019\n",
       "PoblaciÃ³n LGBTIQ+                      6612\n",
       "Madre Cabeza de Hogar                   2564\n",
       "Trabajador Informal                     1086\n",
       "En ProtecciÃ³n                          1044\n",
       "Servidor pÃºblico                        692\n",
       "Otro tipo de vÃ­ctima del conflicto      644\n",
       "Menor Abandonado                         167\n",
       "Name: count, dtype: int64"
      ]
     },
     "execution_count": 7,
     "metadata": {},
     "output_type": "execute_result"
    }
   ],
   "source": [
    "value_counts = df['poblacion_diferencial'].value_counts()\n",
    "value_counts"
   ]
  },
  {
   "cell_type": "markdown",
   "id": "90735225",
   "metadata": {},
   "source": [
    "I replace the null values by frequency (<b>Ninguna</b> value) "
   ]
  },
  {
   "cell_type": "code",
   "execution_count": 8,
   "id": "21b5fab7",
   "metadata": {},
   "outputs": [
    {
     "name": "stderr",
     "output_type": "stream",
     "text": [
      "C:\\Users\\Dilan\\AppData\\Local\\Temp\\ipykernel_15264\\4224689922.py:1: FutureWarning: A value is trying to be set on a copy of a DataFrame or Series through chained assignment using an inplace method.\n",
      "The behavior will change in pandas 3.0. This inplace method will never work because the intermediate object on which we are setting values always behaves as a copy.\n",
      "\n",
      "For example, when doing 'df[col].method(value, inplace=True)', try using 'df.method({col: value}, inplace=True)' or df[col] = df[col].method(value) instead, to perform the operation inplace on the original object.\n",
      "\n",
      "\n",
      "  df[\"poblacion_diferencial\"].replace(np.nan, \"Ninguna\", inplace=True)\n"
     ]
    }
   ],
   "source": [
    "df[\"poblacion_diferencial\"].replace(np.nan, \"Ninguna\", inplace=True)"
   ]
  },
  {
   "cell_type": "code",
   "execution_count": 9,
   "id": "117ee261",
   "metadata": {},
   "outputs": [
    {
     "data": {
      "text/html": [
       "<div>\n",
       "<style scoped>\n",
       "    .dataframe tbody tr th:only-of-type {\n",
       "        vertical-align: middle;\n",
       "    }\n",
       "\n",
       "    .dataframe tbody tr th {\n",
       "        vertical-align: top;\n",
       "    }\n",
       "\n",
       "    .dataframe thead th {\n",
       "        text-align: right;\n",
       "    }\n",
       "</style>\n",
       "<table border=\"1\" class=\"dataframe\">\n",
       "  <thead>\n",
       "    <tr style=\"text-align: right;\">\n",
       "      <th></th>\n",
       "      <th>ano_notificacion</th>\n",
       "      <th>codigo_localidadresidencia</th>\n",
       "      <th>localidad_residencia</th>\n",
       "      <th>nombre_upz</th>\n",
       "      <th>Curso de vida</th>\n",
       "      <th>clasificaciondelaconducta</th>\n",
       "      <th>sexo</th>\n",
       "      <th>edad</th>\n",
       "      <th>niveleducativo</th>\n",
       "      <th>enfermedades_dolorosas</th>\n",
       "      <th>maltrato_sexual</th>\n",
       "      <th>muerte_familiar</th>\n",
       "      <th>conflicto_pareja</th>\n",
       "      <th>problemas_economicos</th>\n",
       "      <th>esc_educ</th>\n",
       "      <th>problemas_juridicos</th>\n",
       "      <th>problemas_laborales</th>\n",
       "      <th>suicidio_amigo</th>\n",
       "      <th>poblacion_diferencial</th>\n",
       "    </tr>\n",
       "  </thead>\n",
       "  <tbody>\n",
       "    <tr>\n",
       "      <th>0</th>\n",
       "      <td>2016</td>\n",
       "      <td>3</td>\n",
       "      <td>Santa Fe</td>\n",
       "      <td>LAS CRUCES</td>\n",
       "      <td>12 â€“ 17 Adolescencia</td>\n",
       "      <td>IdeaciÃ³n suicida</td>\n",
       "      <td>Mujer</td>\n",
       "      <td>14</td>\n",
       "      <td>5. Secundaria incompleta</td>\n",
       "      <td>0</td>\n",
       "      <td>0</td>\n",
       "      <td>0</td>\n",
       "      <td>0</td>\n",
       "      <td>0</td>\n",
       "      <td>0</td>\n",
       "      <td>0</td>\n",
       "      <td>0</td>\n",
       "      <td>0</td>\n",
       "      <td>Otra</td>\n",
       "    </tr>\n",
       "    <tr>\n",
       "      <th>1</th>\n",
       "      <td>2012</td>\n",
       "      <td>8</td>\n",
       "      <td>Kennedy</td>\n",
       "      <td>UPZ Sin asignar</td>\n",
       "      <td>12 â€“ 17 Adolescencia</td>\n",
       "      <td>IdeaciÃ³n suicida</td>\n",
       "      <td>Hombre</td>\n",
       "      <td>13</td>\n",
       "      <td>5. Secundaria incompleta</td>\n",
       "      <td>0</td>\n",
       "      <td>0</td>\n",
       "      <td>0</td>\n",
       "      <td>0</td>\n",
       "      <td>0</td>\n",
       "      <td>0</td>\n",
       "      <td>0</td>\n",
       "      <td>0</td>\n",
       "      <td>0</td>\n",
       "      <td>Otra</td>\n",
       "    </tr>\n",
       "    <tr>\n",
       "      <th>2</th>\n",
       "      <td>2012</td>\n",
       "      <td>19</td>\n",
       "      <td>Ciudad BolÃ­var</td>\n",
       "      <td>UPZ Sin asignar</td>\n",
       "      <td>12 â€“ 17 Adolescencia</td>\n",
       "      <td>Intento de Suicidio</td>\n",
       "      <td>Mujer</td>\n",
       "      <td>13</td>\n",
       "      <td>5. Secundaria incompleta</td>\n",
       "      <td>0</td>\n",
       "      <td>0</td>\n",
       "      <td>0</td>\n",
       "      <td>0</td>\n",
       "      <td>0</td>\n",
       "      <td>0</td>\n",
       "      <td>0</td>\n",
       "      <td>0</td>\n",
       "      <td>0</td>\n",
       "      <td>Otra</td>\n",
       "    </tr>\n",
       "    <tr>\n",
       "      <th>3</th>\n",
       "      <td>2012</td>\n",
       "      <td>10</td>\n",
       "      <td>EngativÃ¡</td>\n",
       "      <td>UPZ Sin asignar</td>\n",
       "      <td>18 â€“ 28 Juventud</td>\n",
       "      <td>Intento de Suicidio</td>\n",
       "      <td>Mujer</td>\n",
       "      <td>26</td>\n",
       "      <td>8. TÃ©cnico post-secundaria completa</td>\n",
       "      <td>0</td>\n",
       "      <td>0</td>\n",
       "      <td>0</td>\n",
       "      <td>0</td>\n",
       "      <td>0</td>\n",
       "      <td>0</td>\n",
       "      <td>0</td>\n",
       "      <td>0</td>\n",
       "      <td>0</td>\n",
       "      <td>Ninguna</td>\n",
       "    </tr>\n",
       "    <tr>\n",
       "      <th>4</th>\n",
       "      <td>2012</td>\n",
       "      <td>10</td>\n",
       "      <td>EngativÃ¡</td>\n",
       "      <td>UPZ Sin asignar</td>\n",
       "      <td>18 â€“ 28 Juventud</td>\n",
       "      <td>Intento de Suicidio</td>\n",
       "      <td>Mujer</td>\n",
       "      <td>26</td>\n",
       "      <td>6. Secundaria completa</td>\n",
       "      <td>0</td>\n",
       "      <td>0</td>\n",
       "      <td>0</td>\n",
       "      <td>0</td>\n",
       "      <td>0</td>\n",
       "      <td>0</td>\n",
       "      <td>0</td>\n",
       "      <td>0</td>\n",
       "      <td>0</td>\n",
       "      <td>Ninguna</td>\n",
       "    </tr>\n",
       "  </tbody>\n",
       "</table>\n",
       "</div>"
      ],
      "text/plain": [
       "   ano_notificacion codigo_localidadresidencia localidad_residencia  \\\n",
       "0              2016                          3             Santa Fe   \n",
       "1              2012                          8              Kennedy   \n",
       "2              2012                         19      Ciudad BolÃ­var   \n",
       "3              2012                         10            EngativÃ¡   \n",
       "4              2012                         10            EngativÃ¡   \n",
       "\n",
       "        nombre_upz           Curso de vida clasificaciondelaconducta    sexo  \\\n",
       "0       LAS CRUCES  12 â€“ 17 Adolescencia         IdeaciÃ³n suicida   Mujer   \n",
       "1  UPZ Sin asignar  12 â€“ 17 Adolescencia         IdeaciÃ³n suicida  Hombre   \n",
       "2  UPZ Sin asignar  12 â€“ 17 Adolescencia       Intento de Suicidio   Mujer   \n",
       "3  UPZ Sin asignar      18 â€“ 28 Juventud       Intento de Suicidio   Mujer   \n",
       "4  UPZ Sin asignar      18 â€“ 28 Juventud       Intento de Suicidio   Mujer   \n",
       "\n",
       "   edad                        niveleducativo  enfermedades_dolorosas  \\\n",
       "0    14              5. Secundaria incompleta                       0   \n",
       "1    13              5. Secundaria incompleta                       0   \n",
       "2    13              5. Secundaria incompleta                       0   \n",
       "3    26  8. TÃ©cnico post-secundaria completa                       0   \n",
       "4    26                6. Secundaria completa                       0   \n",
       "\n",
       "   maltrato_sexual  muerte_familiar  conflicto_pareja  problemas_economicos  \\\n",
       "0                0                0                 0                     0   \n",
       "1                0                0                 0                     0   \n",
       "2                0                0                 0                     0   \n",
       "3                0                0                 0                     0   \n",
       "4                0                0                 0                     0   \n",
       "\n",
       "   esc_educ  problemas_juridicos  problemas_laborales  suicidio_amigo  \\\n",
       "0         0                    0                    0               0   \n",
       "1         0                    0                    0               0   \n",
       "2         0                    0                    0               0   \n",
       "3         0                    0                    0               0   \n",
       "4         0                    0                    0               0   \n",
       "\n",
       "  poblacion_diferencial  \n",
       "0                  Otra  \n",
       "1                  Otra  \n",
       "2                  Otra  \n",
       "3               Ninguna  \n",
       "4               Ninguna  "
      ]
     },
     "execution_count": 9,
     "metadata": {},
     "output_type": "execute_result"
    }
   ],
   "source": [
    "df.head()"
   ]
  },
  {
   "cell_type": "markdown",
   "id": "488343f3",
   "metadata": {},
   "source": [
    "### Replacing special Characteres in the categorical variables"
   ]
  },
  {
   "cell_type": "markdown",
   "id": "32727b59",
   "metadata": {},
   "source": [
    "#### Categorical Values"
   ]
  },
  {
   "cell_type": "code",
   "execution_count": 10,
   "id": "56169d10",
   "metadata": {},
   "outputs": [],
   "source": [
    "#Replacing special characters in localidad_residencia\n",
    "df['localidad_residencia'] = df['localidad_residencia'].str.replace(r'[^a-zA-Z0-9\\s]', '', regex=True)\n",
    "#Replacing special characters in nombre_upz\n",
    "df['nombre_upz'] = df['nombre_upz'].str.replace(r'[^a-zA-Z0-9\\s]', '', regex=True)\n",
    "#Replacing special characters in Curso de vida\n",
    "df['Curso de vida'] = df['Curso de vida'].str.replace(r'[^a-zA-Z0-9\\s]', '', regex=True)\n",
    "#Replacing special characters in clasificaciondelaconducta\n",
    "df['clasificaciondelaconducta'] = df['clasificaciondelaconducta'].str.replace(r'[^a-zA-Z0-9\\s]', '', regex=True)\n",
    "#Replacing special characters in sexo\n",
    "df['sexo'] = df['sexo'].str.replace(r'[^a-zA-Z0-9\\s]', '', regex=True)\n",
    "#Replacing special characters in niveleducativo\n",
    "df['niveleducativo'] = df['niveleducativo'].str.replace(r'[^a-zA-Z0-9\\s]', '', regex=True)\n",
    "#Replacing special characters in poblacion_diferencial\n",
    "df['poblacion_diferencial'] = df['poblacion_diferencial'].str.replace(r'[^a-zA-Z0-9\\s]', '', regex=True)\n"
   ]
  },
  {
   "cell_type": "code",
   "execution_count": 11,
   "id": "b5c843dc",
   "metadata": {},
   "outputs": [
    {
     "name": "stdout",
     "output_type": "stream",
     "text": [
      "\n",
      "Conteo de valores únicos para la variable: localidad_residencia\n",
      "localidad_residencia\n",
      "Kennedy               28115\n",
      "Suba                  25869\n",
      "Bosa                  23501\n",
      "Ciudad Bolvar         21686\n",
      "Engativ               19300\n",
      "Usme                  13587\n",
      "San Cristbal          11694\n",
      "Rafael Uribe Uribe    11412\n",
      "Fontibn               10855\n",
      "Usaqun                10583\n",
      "Puente Aranda          6950\n",
      "Tunjuelito             6327\n",
      "Teusaquillo            4585\n",
      "Barrios Unidos         3978\n",
      "Santa Fe               3812\n",
      "Chapinero              3579\n",
      "Los Mrtires            2929\n",
      "Antonio Nario          2555\n",
      "La Candelaria           828\n",
      "Sumapaz                 238\n",
      "Sin dato                112\n",
      "Name: count, dtype: int64\n",
      "\n",
      "Conteo de valores únicos para la variable: nombre_upz\n",
      "nombre_upz\n",
      "UPZ Sin asignar         10034\n",
      "BOSA CENTRAL             8054\n",
      "BOSA OCCIDENTAL          6819\n",
      "EL RINCON                6729\n",
      "TIBABUYES                5882\n",
      "                        ...  \n",
      "PARQUE SALITRE             40\n",
      "AEROPUERTO EL DORADO       30\n",
      "EL MOCHUELO                25\n",
      "GUAYMARAL                   5\n",
      "LA ACADEMIA                 3\n",
      "Name: count, Length: 113, dtype: int64\n",
      "\n",
      "Conteo de valores únicos para la variable: Curso de vida\n",
      "Curso de vida\n",
      "12  17 Adolescencia      70970\n",
      "18  28 Juventud          66723\n",
      "29  59 Adultez           52115\n",
      "6  11 Infancia           16060\n",
      "60 Vejez                  6276\n",
      "0  5 Primera Infancia      351\n",
      "Name: count, dtype: int64\n",
      "\n",
      "Conteo de valores únicos para la variable: clasificaciondelaconducta\n",
      "clasificaciondelaconducta\n",
      "Ideacin suicida        150761\n",
      "Intento de Suicidio     61734\n",
      "Name: count, dtype: int64\n",
      "\n",
      "Conteo de valores únicos para la variable: sexo\n",
      "sexo\n",
      "Mujer     139241\n",
      "Hombre     73254\n",
      "Name: count, dtype: int64\n",
      "\n",
      "Conteo de valores únicos para la variable: niveleducativo\n",
      "niveleducativo\n",
      "5 Secundaria incompleta               77159\n",
      "6 Secundaria completa                 41928\n",
      "9 Universidad incompleta              18727\n",
      "3 Primaria incompleta                 16628\n",
      "8 Tcnico postsecundaria completa      13397\n",
      "10 Universidad completa               12610\n",
      "99 Sin dato                           11798\n",
      "4 Primaria completa                    9217\n",
      "7 Tcnico postsecundaria incompleta     4287\n",
      "12 Postgrado completo                  2261\n",
      "1 No fue a la escuela                  1121\n",
      "7 Tcnico pos secundaria incompleto      931\n",
      "8 Tcnico pos secundaria completo        870\n",
      "11 Postgrado incompleto                 715\n",
      "2 Preescolar                            668\n",
      "11 Posgrado incompleto                  105\n",
      "12 Posgrado completo                     73\n",
      "Name: count, dtype: int64\n",
      "\n",
      "Conteo de valores únicos para la variable: poblacion_diferencial\n",
      "poblacion_diferencial\n",
      "Ninguna                              114232\n",
      "Otra                                  77435\n",
      "Consumidor habitual de SPA             8019\n",
      "Poblacin LGBTIQ                        6612\n",
      "Madre Cabeza de Hogar                  2564\n",
      "Trabajador Informal                    1086\n",
      "En Proteccin                           1044\n",
      "Servidor pblico                         692\n",
      "Otro tipo de vctima del conflicto       644\n",
      "Menor Abandonado                        167\n",
      "Name: count, dtype: int64\n"
     ]
    }
   ],
   "source": [
    "categorical_variables = [ \n",
    "                      \"localidad_residencia\",\n",
    "                      \"nombre_upz\",\n",
    "                      \"Curso de vida\",\n",
    "                      \"clasificaciondelaconducta\",\n",
    "                      \"sexo\",\n",
    "                      \"niveleducativo\",\n",
    "                      \"poblacion_diferencial\"]\n",
    "\n",
    "for column in categorical_variables:\n",
    "    print(\"\\nConteo de valores únicos para la variable:\", column)\n",
    "    print(df[column].value_counts())"
   ]
  },
  {
   "cell_type": "markdown",
   "id": "5e86ee3d",
   "metadata": {},
   "source": [
    "### Correct Data Format"
   ]
  },
  {
   "cell_type": "code",
   "execution_count": 15,
   "id": "af7f352a",
   "metadata": {},
   "outputs": [
    {
     "data": {
      "text/plain": [
       "ano_notificacion               int64\n",
       "codigo_localidadresidencia    object\n",
       "localidad_residencia          object\n",
       "nombre_upz                    object\n",
       "Curso de vida                 object\n",
       "clasificaciondelaconducta     object\n",
       "sexo                          object\n",
       "edad                           int64\n",
       "niveleducativo                object\n",
       "enfermedades_dolorosas         int64\n",
       "maltrato_sexual                int64\n",
       "muerte_familiar                int64\n",
       "conflicto_pareja               int64\n",
       "problemas_economicos           int64\n",
       "problemas_juridicos            int64\n",
       "problemas_laborales            int64\n",
       "suicidio_amigo                 int64\n",
       "poblacion_diferencial         object\n",
       "dtype: object"
      ]
     },
     "execution_count": 15,
     "metadata": {},
     "output_type": "execute_result"
    }
   ],
   "source": [
    "df.dtypes"
   ]
  },
  {
   "cell_type": "code",
   "execution_count": 16,
   "id": "bed9ab95",
   "metadata": {},
   "outputs": [],
   "source": [
    "# Convert integer columns to boolean\n",
    "df['enfermedades_dolorosas'] = df['enfermedades_dolorosas'].astype(bool)\n",
    "df['maltrato_sexual'] = df['maltrato_sexual'].astype(bool)\n",
    "df['muerte_familiar'] = df['muerte_familiar'].astype(bool)\n",
    "df['conflicto_pareja'] = df['conflicto_pareja'].astype(bool)\n",
    "df['problemas_economicos'] = df['problemas_economicos'].astype(bool)\n",
    "df['problemas_juridicos'] = df['problemas_juridicos'].astype(bool)\n",
    "df['problemas_laborales'] = df['problemas_laborales'].astype(bool)\n",
    "df['suicidio_amigo'] = df['suicidio_amigo'].astype(bool)"
   ]
  },
  {
   "cell_type": "code",
   "execution_count": 17,
   "id": "50814519",
   "metadata": {},
   "outputs": [
    {
     "data": {
      "text/plain": [
       "ano_notificacion               int64\n",
       "codigo_localidadresidencia    object\n",
       "localidad_residencia          object\n",
       "nombre_upz                    object\n",
       "Curso de vida                 object\n",
       "clasificaciondelaconducta     object\n",
       "sexo                          object\n",
       "edad                           int64\n",
       "niveleducativo                object\n",
       "enfermedades_dolorosas          bool\n",
       "maltrato_sexual                 bool\n",
       "muerte_familiar                 bool\n",
       "conflicto_pareja                bool\n",
       "problemas_economicos            bool\n",
       "problemas_juridicos             bool\n",
       "problemas_laborales             bool\n",
       "suicidio_amigo                  bool\n",
       "poblacion_diferencial         object\n",
       "dtype: object"
      ]
     },
     "execution_count": 17,
     "metadata": {},
     "output_type": "execute_result"
    }
   ],
   "source": [
    "df.dtypes"
   ]
  },
  {
   "cell_type": "code",
   "execution_count": 18,
   "id": "abe4d200",
   "metadata": {},
   "outputs": [
    {
     "data": {
      "text/html": [
       "<div>\n",
       "<style scoped>\n",
       "    .dataframe tbody tr th:only-of-type {\n",
       "        vertical-align: middle;\n",
       "    }\n",
       "\n",
       "    .dataframe tbody tr th {\n",
       "        vertical-align: top;\n",
       "    }\n",
       "\n",
       "    .dataframe thead th {\n",
       "        text-align: right;\n",
       "    }\n",
       "</style>\n",
       "<table border=\"1\" class=\"dataframe\">\n",
       "  <thead>\n",
       "    <tr style=\"text-align: right;\">\n",
       "      <th></th>\n",
       "      <th>ano_notificacion</th>\n",
       "      <th>codigo_localidadresidencia</th>\n",
       "      <th>localidad_residencia</th>\n",
       "      <th>nombre_upz</th>\n",
       "      <th>Curso de vida</th>\n",
       "      <th>clasificaciondelaconducta</th>\n",
       "      <th>sexo</th>\n",
       "      <th>edad</th>\n",
       "      <th>niveleducativo</th>\n",
       "      <th>enfermedades_dolorosas</th>\n",
       "      <th>maltrato_sexual</th>\n",
       "      <th>muerte_familiar</th>\n",
       "      <th>conflicto_pareja</th>\n",
       "      <th>problemas_economicos</th>\n",
       "      <th>problemas_juridicos</th>\n",
       "      <th>problemas_laborales</th>\n",
       "      <th>suicidio_amigo</th>\n",
       "      <th>poblacion_diferencial</th>\n",
       "    </tr>\n",
       "  </thead>\n",
       "  <tbody>\n",
       "    <tr>\n",
       "      <th>0</th>\n",
       "      <td>2016</td>\n",
       "      <td>3</td>\n",
       "      <td>Santa Fe</td>\n",
       "      <td>LAS CRUCES</td>\n",
       "      <td>12  17 Adolescencia</td>\n",
       "      <td>Ideacin suicida</td>\n",
       "      <td>Mujer</td>\n",
       "      <td>14</td>\n",
       "      <td>5 Secundaria incompleta</td>\n",
       "      <td>False</td>\n",
       "      <td>False</td>\n",
       "      <td>False</td>\n",
       "      <td>False</td>\n",
       "      <td>False</td>\n",
       "      <td>False</td>\n",
       "      <td>False</td>\n",
       "      <td>False</td>\n",
       "      <td>Otra</td>\n",
       "    </tr>\n",
       "    <tr>\n",
       "      <th>1</th>\n",
       "      <td>2012</td>\n",
       "      <td>8</td>\n",
       "      <td>Kennedy</td>\n",
       "      <td>UPZ Sin asignar</td>\n",
       "      <td>12  17 Adolescencia</td>\n",
       "      <td>Ideacin suicida</td>\n",
       "      <td>Hombre</td>\n",
       "      <td>13</td>\n",
       "      <td>5 Secundaria incompleta</td>\n",
       "      <td>False</td>\n",
       "      <td>False</td>\n",
       "      <td>False</td>\n",
       "      <td>False</td>\n",
       "      <td>False</td>\n",
       "      <td>False</td>\n",
       "      <td>False</td>\n",
       "      <td>False</td>\n",
       "      <td>Otra</td>\n",
       "    </tr>\n",
       "    <tr>\n",
       "      <th>2</th>\n",
       "      <td>2012</td>\n",
       "      <td>19</td>\n",
       "      <td>Ciudad Bolvar</td>\n",
       "      <td>UPZ Sin asignar</td>\n",
       "      <td>12  17 Adolescencia</td>\n",
       "      <td>Intento de Suicidio</td>\n",
       "      <td>Mujer</td>\n",
       "      <td>13</td>\n",
       "      <td>5 Secundaria incompleta</td>\n",
       "      <td>False</td>\n",
       "      <td>False</td>\n",
       "      <td>False</td>\n",
       "      <td>False</td>\n",
       "      <td>False</td>\n",
       "      <td>False</td>\n",
       "      <td>False</td>\n",
       "      <td>False</td>\n",
       "      <td>Otra</td>\n",
       "    </tr>\n",
       "    <tr>\n",
       "      <th>3</th>\n",
       "      <td>2012</td>\n",
       "      <td>10</td>\n",
       "      <td>Engativ</td>\n",
       "      <td>UPZ Sin asignar</td>\n",
       "      <td>18  28 Juventud</td>\n",
       "      <td>Intento de Suicidio</td>\n",
       "      <td>Mujer</td>\n",
       "      <td>26</td>\n",
       "      <td>8 Tcnico postsecundaria completa</td>\n",
       "      <td>False</td>\n",
       "      <td>False</td>\n",
       "      <td>False</td>\n",
       "      <td>False</td>\n",
       "      <td>False</td>\n",
       "      <td>False</td>\n",
       "      <td>False</td>\n",
       "      <td>False</td>\n",
       "      <td>Ninguna</td>\n",
       "    </tr>\n",
       "    <tr>\n",
       "      <th>4</th>\n",
       "      <td>2012</td>\n",
       "      <td>10</td>\n",
       "      <td>Engativ</td>\n",
       "      <td>UPZ Sin asignar</td>\n",
       "      <td>18  28 Juventud</td>\n",
       "      <td>Intento de Suicidio</td>\n",
       "      <td>Mujer</td>\n",
       "      <td>26</td>\n",
       "      <td>6 Secundaria completa</td>\n",
       "      <td>False</td>\n",
       "      <td>False</td>\n",
       "      <td>False</td>\n",
       "      <td>False</td>\n",
       "      <td>False</td>\n",
       "      <td>False</td>\n",
       "      <td>False</td>\n",
       "      <td>False</td>\n",
       "      <td>Ninguna</td>\n",
       "    </tr>\n",
       "  </tbody>\n",
       "</table>\n",
       "</div>"
      ],
      "text/plain": [
       "   ano_notificacion codigo_localidadresidencia localidad_residencia  \\\n",
       "0              2016                          3             Santa Fe   \n",
       "1              2012                          8              Kennedy   \n",
       "2              2012                         19        Ciudad Bolvar   \n",
       "3              2012                         10              Engativ   \n",
       "4              2012                         10              Engativ   \n",
       "\n",
       "        nombre_upz        Curso de vida clasificaciondelaconducta    sexo  \\\n",
       "0       LAS CRUCES  12  17 Adolescencia           Ideacin suicida   Mujer   \n",
       "1  UPZ Sin asignar  12  17 Adolescencia           Ideacin suicida  Hombre   \n",
       "2  UPZ Sin asignar  12  17 Adolescencia       Intento de Suicidio   Mujer   \n",
       "3  UPZ Sin asignar      18  28 Juventud       Intento de Suicidio   Mujer   \n",
       "4  UPZ Sin asignar      18  28 Juventud       Intento de Suicidio   Mujer   \n",
       "\n",
       "   edad                    niveleducativo  enfermedades_dolorosas  \\\n",
       "0    14           5 Secundaria incompleta                   False   \n",
       "1    13           5 Secundaria incompleta                   False   \n",
       "2    13           5 Secundaria incompleta                   False   \n",
       "3    26  8 Tcnico postsecundaria completa                   False   \n",
       "4    26             6 Secundaria completa                   False   \n",
       "\n",
       "   maltrato_sexual  muerte_familiar  conflicto_pareja  problemas_economicos  \\\n",
       "0            False            False             False                 False   \n",
       "1            False            False             False                 False   \n",
       "2            False            False             False                 False   \n",
       "3            False            False             False                 False   \n",
       "4            False            False             False                 False   \n",
       "\n",
       "   problemas_juridicos  problemas_laborales  suicidio_amigo  \\\n",
       "0                False                False           False   \n",
       "1                False                False           False   \n",
       "2                False                False           False   \n",
       "3                False                False           False   \n",
       "4                False                False           False   \n",
       "\n",
       "  poblacion_diferencial  \n",
       "0                  Otra  \n",
       "1                  Otra  \n",
       "2                  Otra  \n",
       "3               Ninguna  \n",
       "4               Ninguna  "
      ]
     },
     "execution_count": 18,
     "metadata": {},
     "output_type": "execute_result"
    }
   ],
   "source": [
    "df.head()"
   ]
  },
  {
   "cell_type": "markdown",
   "id": "0ecf0b99",
   "metadata": {},
   "source": [
    "### Descriptive Analysis in numerical variables"
   ]
  },
  {
   "cell_type": "code",
   "execution_count": 19,
   "id": "fe198386",
   "metadata": {},
   "outputs": [
    {
     "name": "stdout",
     "output_type": "stream",
     "text": [
      "Descriptive Statistics in numerical variables:\n",
      "       ano_notificacion           edad\n",
      "count     212495.000000  212495.000000\n",
      "mean        2020.481037      24.372649\n",
      "std            3.278523      13.720469\n",
      "min         2012.000000       1.000000\n",
      "25%         2018.000000      15.000000\n",
      "50%         2022.000000      20.000000\n",
      "75%         2023.000000      30.000000\n",
      "max         2024.000000      99.000000\n"
     ]
    }
   ],
   "source": [
    "numeric_variables = ['ano_notificacion', 'edad']\n",
    "numeric_stats = df[numeric_variables].describe()\n",
    "print(\"Descriptive Statistics in numerical variables:\")\n",
    "print(numeric_stats)"
   ]
  },
  {
   "cell_type": "markdown",
   "id": "eba82daa",
   "metadata": {},
   "source": [
    "# Data grouping"
   ]
  },
  {
   "cell_type": "code",
   "execution_count": 22,
   "id": "70d5e572",
   "metadata": {},
   "outputs": [
    {
     "data": {
      "text/plain": [
       "array(['12  17 Adolescencia', '18  28 Juventud', '29  59 Adultez',\n",
       "       '6  11 Infancia', '60 Vejez', '0  5 Primera Infancia'],\n",
       "      dtype=object)"
      ]
     },
     "execution_count": 22,
     "metadata": {},
     "output_type": "execute_result"
    }
   ],
   "source": [
    "df['Curso de vida'].unique()"
   ]
  },
  {
   "cell_type": "code",
   "execution_count": null,
   "id": "b471f589",
   "metadata": {},
   "outputs": [
    {
     "data": {
      "text/plain": [
       "0            < 18 years old\n",
       "1            < 18 years old\n",
       "2            < 18 years old\n",
       "3         18 - 59 years old\n",
       "4         18 - 59 years old\n",
       "                ...        \n",
       "212490    18 - 59 years old\n",
       "212491    18 - 59 years old\n",
       "212492    18 - 59 years old\n",
       "212493    18 - 59 years old\n",
       "212494    18 - 59 years old\n",
       "Name: group_age, Length: 212495, dtype: object"
      ]
     },
     "execution_count": 23,
     "metadata": {},
     "output_type": "execute_result"
    }
   ],
   "source": [
    "# Define a function to bin curso_vida by age\n",
    "def bin_curso_vida(curso_vida):\n",
    "  if curso_vida in ['0  5 Primera Infancia', '6  11 Infancia', '12  17 Adolescencia']:\n",
    "    return '< 18 years old'\n",
    "  elif curso_vida in ['18  28 Juventud', '29  59 Adultez']:\n",
    "    return '18 - 59 years old'\n",
    "  else:\n",
    "    return '>= 60 yo'\n",
    "  \n",
    "# Create a new column 'group_age' by applying the bin_curso_vida function\n",
    "df['group_age'] = df['Curso de vida'].apply(bin_curso_vida)\n",
    "\n",
    "df['group_age']"
   ]
  },
  {
   "cell_type": "code",
   "execution_count": 21,
   "id": "a3e8d7c6",
   "metadata": {},
   "outputs": [
    {
     "data": {
      "text/plain": [
       "Text(0.5, 1.0, 'Age Range bins')"
      ]
     },
     "execution_count": 21,
     "metadata": {},
     "output_type": "execute_result"
    },
    {
     "data": {
      "image/png": "[encoded data removed]",
      "text/plain": [
       "<Figure size 640x480 with 1 Axes>"
      ]
     },
     "metadata": {},
     "output_type": "display_data"
    }
   ],
   "source": [
    "%matplotlib inline\n",
    "import matplotlib as plt\n",
    "from matplotlib import pyplot\n",
    "plt.pyplot.hist(df[\"Curso de vida\"])\n",
    "\n",
    "# set x/y labels and plot title\n",
    "plt.pyplot.xlabel(\"Age Range\")\n",
    "plt.pyplot.ylabel(\"count\")\n",
    "plt.pyplot.title(\"Age Range bins\")"
   ]
  },
  {
   "cell_type": "code",
   "execution_count": 24,
   "id": "8e10ab5e",
   "metadata": {},
   "outputs": [
    {
     "data": {
      "text/plain": [
       "Text(0.5, 1.0, 'Age Range bins')"
      ]
     },
     "execution_count": 24,
     "metadata": {},
     "output_type": "execute_result"
    },
    {
     "data": {
      "image/png": "[encoded data removed]",
      "text/plain": [
       "<Figure size 640x480 with 1 Axes>"
      ]
     },
     "metadata": {},
     "output_type": "display_data"
    }
   ],
   "source": [
    "%matplotlib inline\n",
    "import matplotlib as plt\n",
    "from matplotlib import pyplot\n",
    "plt.pyplot.hist(df[\"group_age\"])\n",
    "\n",
    "# set x/y labels and plot title\n",
    "plt.pyplot.xlabel(\"Age Range\")\n",
    "plt.pyplot.ylabel(\"count\")\n",
    "plt.pyplot.title(\"Age Range bins\")"
   ]
  },
  {
   "cell_type": "code",
   "execution_count": 25,
   "id": "494cd006",
   "metadata": {},
   "outputs": [
    {
     "data": {
      "text/plain": [
       "Text(0.5, 1.0, 'group_age bins')"
      ]
     },
     "execution_count": 25,
     "metadata": {},
     "output_type": "execute_result"
    },
    {
     "data": {
      "image/png": "[encoded data removed]",
      "text/plain": [
       "<Figure size 640x480 with 1 Axes>"
      ]
     },
     "metadata": {},
     "output_type": "display_data"
    }
   ],
   "source": [
    "%matplotlib inline\n",
    "import matplotlib as plt\n",
    "from matplotlib import pyplot\n",
    "\n",
    "\n",
    "# draw historgram of attribute \"group_age\" with bins = 3\n",
    "plt.pyplot.hist(df[\"group_age\"], bins = 3)\n",
    "\n",
    "# set x/y labels and plot title\n",
    "plt.pyplot.xlabel(\"group_age\")\n",
    "plt.pyplot.ylabel(\"count\")\n",
    "plt.pyplot.title(\"group_age bins\")"
   ]
  },
  {
   "cell_type": "code",
   "execution_count": 32,
   "id": "eeeb60bf",
   "metadata": {},
   "outputs": [
    {
     "data": {
      "text/plain": [
       "<Axes: xlabel='enfermedades_dolorosas', ylabel='ano_notificacion'>"
      ]
     },
     "execution_count": 32,
     "metadata": {},
     "output_type": "execute_result"
    },
    {
     "data": {
      "image/png": "[encoded data removed]",
      "text/plain": [
       "<Figure size 640x480 with 1 Axes>"
      ]
     },
     "metadata": {},
     "output_type": "display_data"
    }
   ],
   "source": [
    "sns.boxplot(x=\"enfermedades_dolorosas\", y=\"ano_notificacion\", data=df)"
   ]
  },
  {
   "cell_type": "code",
   "execution_count": 33,
   "id": "f90ac7e8",
   "metadata": {},
   "outputs": [
    {
     "data": {
      "text/plain": [
       "<Axes: xlabel='maltrato_sexual', ylabel='ano_notificacion'>"
      ]
     },
     "execution_count": 33,
     "metadata": {},
     "output_type": "execute_result"
    },
    {
     "data": {
      "image/png": "[encoded data removed]",
      "text/plain": [
       "<Figure size 640x480 with 1 Axes>"
      ]
     },
     "metadata": {},
     "output_type": "display_data"
    }
   ],
   "source": [
    "sns.boxplot(x=\"maltrato_sexual\", y=\"ano_notificacion\", data=df)"
   ]
  },
  {
   "cell_type": "code",
   "execution_count": 34,
   "id": "10b83b03",
   "metadata": {},
   "outputs": [
    {
     "data": {
      "text/plain": [
       "<Axes: xlabel='muerte_familiar', ylabel='ano_notificacion'>"
      ]
     },
     "execution_count": 34,
     "metadata": {},
     "output_type": "execute_result"
    },
    {
     "data": {
      "image/png": "[encoded data removed]",
      "text/plain": [
       "<Figure size 640x480 with 1 Axes>"
      ]
     },
     "metadata": {},
     "output_type": "display_data"
    }
   ],
   "source": [
    "sns.boxplot(x=\"muerte_familiar\", y=\"ano_notificacion\", data=df)"
   ]
  },
  {
   "cell_type": "code",
   "execution_count": 36,
   "id": "098363c3",
   "metadata": {},
   "outputs": [
    {
     "data": {
      "text/plain": [
       "<Axes: xlabel='conflicto_pareja', ylabel='ano_notificacion'>"
      ]
     },
     "execution_count": 36,
     "metadata": {},
     "output_type": "execute_result"
    },
    {
     "data": {
      "image/png": "[encoded data removed]",
      "text/plain": [
       "<Figure size 640x480 with 1 Axes>"
      ]
     },
     "metadata": {},
     "output_type": "display_data"
    }
   ],
   "source": [
    "sns.boxplot(x=\"conflicto_pareja\", y=\"ano_notificacion\", data=df)"
   ]
  },
  {
   "cell_type": "code",
   "execution_count": 37,
   "id": "e8ba037c",
   "metadata": {},
   "outputs": [
    {
     "data": {
      "text/plain": [
       "<Axes: xlabel='problemas_economicos', ylabel='ano_notificacion'>"
      ]
     },
     "execution_count": 37,
     "metadata": {},
     "output_type": "execute_result"
    },
    {
     "data": {
      "image/png": "[encoded data removed]",
      "text/plain": [
       "<Figure size 640x480 with 1 Axes>"
      ]
     },
     "metadata": {},
     "output_type": "display_data"
    }
   ],
   "source": [
    "sns.boxplot(x=\"problemas_economicos\", y=\"ano_notificacion\", data=df)"
   ]
  },
  {
   "cell_type": "code",
   "execution_count": 38,
   "id": "df798d6b",
   "metadata": {},
   "outputs": [
    {
     "data": {
      "text/plain": [
       "<Axes: xlabel='problemas_juridicos', ylabel='ano_notificacion'>"
      ]
     },
     "execution_count": 38,
     "metadata": {},
     "output_type": "execute_result"
    },
    {
     "data": {
      "image/png": "[encoded data removed]",
      "text/plain": [
       "<Figure size 640x480 with 1 Axes>"
      ]
     },
     "metadata": {},
     "output_type": "display_data"
    }
   ],
   "source": [
    "sns.boxplot(x=\"problemas_juridicos\", y=\"ano_notificacion\", data=df)"
   ]
  },
  {
   "cell_type": "code",
   "execution_count": 39,
   "id": "e30874a9",
   "metadata": {},
   "outputs": [
    {
     "data": {
      "text/plain": [
       "<Axes: xlabel='problemas_laborales', ylabel='ano_notificacion'>"
      ]
     },
     "execution_count": 39,
     "metadata": {},
     "output_type": "execute_result"
    },
    {
     "data": {
      "image/png": "[encoded data removed]",
      "text/plain": [
       "<Figure size 640x480 with 1 Axes>"
      ]
     },
     "metadata": {},
     "output_type": "display_data"
    }
   ],
   "source": [
    "sns.boxplot(x=\"problemas_laborales\", y=\"ano_notificacion\", data=df)"
   ]
  },
  {
   "cell_type": "code",
   "execution_count": 40,
   "id": "9c231696",
   "metadata": {},
   "outputs": [
    {
     "data": {
      "text/plain": [
       "<Axes: xlabel='suicidio_amigo', ylabel='ano_notificacion'>"
      ]
     },
     "execution_count": 40,
     "metadata": {},
     "output_type": "execute_result"
    },
    {
     "data": {
      "image/png": "[encoded data removed]",
      "text/plain": [
       "<Figure size 640x480 with 1 Axes>"
      ]
     },
     "metadata": {},
     "output_type": "display_data"
    }
   ],
   "source": [
    "sns.boxplot(x=\"suicidio_amigo\", y=\"ano_notificacion\", data=df)"
   ]
  }
 ],
 "metadata": {
  "kernelspec": {
   "display_name": "env",
   "language": "python",
   "name": "python3"
  },
  "language_info": {
   "codemirror_mode": {
    "name": "ipython",
    "version": 3
   },
   "file_extension": ".py",
   "mimetype": "text/x-python",
   "name": "python",
   "nbconvert_exporter": "python",
   "pygments_lexer": "ipython3",
   "version": "3.13.2"
  }
 },
 "nbformat": 4,
 "nbformat_minor": 5
}
